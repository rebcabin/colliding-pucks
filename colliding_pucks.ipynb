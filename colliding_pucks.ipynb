{
 "cells": [
  {
   "cell_type": "code",
   "execution_count": 1,
   "metadata": {},
   "outputs": [
    {
     "name": "stdout",
     "output_type": "stream",
     "text": [
      "Loading chipmunk for Linux (64bit) [/home/rebcabin/anaconda3/envs/self-driving-car/lib/python3.5/site-packages/pymunk/libchipmunk64.so]\n"
     ]
    }
   ],
   "source": [
    "import pygame\n",
    "from pygame.color import THECOLORS\n",
    "import pymunk\n",
    "from pymunk.vec2d import Vec2d\n",
    "from pymunk.pygame_util import draw"
   ]
  },
  {
   "cell_type": "code",
   "execution_count": 2,
   "metadata": {},
   "outputs": [],
   "source": [
    "width = 1000\n",
    "height = 700\n",
    "pygame.init()\n",
    "screen = pygame.display.set_mode((width, height))\n",
    "clock = pygame.time.Clock()\n",
    "screen.set_alpha(None)"
   ]
  },
  {
   "cell_type": "code",
   "execution_count": 84,
   "metadata": {},
   "outputs": [],
   "source": [
    "def clear_screen(color=THECOLORS['black']):\n",
    "    screen.fill(color)\n",
    "    pygame.display.flip()"
   ]
  },
  {
   "cell_type": "code",
   "execution_count": 103,
   "metadata": {},
   "outputs": [],
   "source": [
    "def draw_puck(p_0=Vec2d(width/2, height/2), puck_color=THECOLORS['red']):\n",
    "    dont_fill_bit = 0\n",
    "    clear_screen()\n",
    "    r = 100\n",
    "    pygame.draw.circle(screen, puck_color, p_0.int_tuple, r, dont_fill_bit)\n",
    "    pygame.display.flip()\n",
    "draw_puck()"
   ]
  },
  {
   "cell_type": "code",
   "execution_count": 104,
   "metadata": {},
   "outputs": [],
   "source": [
    "def anim_puck(\n",
    "        steps=100, \n",
    "        dt=1, \n",
    "        p_0=Vec2d(width/2, height/2), \n",
    "        v_0=Vec2d(1, 1/2), \n",
    "        puck_color=THECOLORS['red']):\n",
    "    for i in range(steps):\n",
    "        clear_screen()\n",
    "        p_i = p_0 + (i * dt * v_0)\n",
    "        pygame.draw.circle(screen, puck_color, p_i.int_tuple, r, dont_fill_bit)\n",
    "        pygame.display.flip()\n",
    "anim_puck()"
   ]
  },
  {
   "cell_type": "markdown",
   "metadata": {},
   "source": [
    "## PREDICT WALL STRIKES"
   ]
  },
  {
   "cell_type": "code",
   "execution_count": 105,
   "metadata": {},
   "outputs": [],
   "source": [
    "import sympy"
   ]
  },
  {
   "cell_type": "markdown",
   "metadata": {},
   "source": [
    "Function to return a parametric function that produces all the points along a line:"
   ]
  },
  {
   "cell_type": "code",
   "execution_count": 106,
   "metadata": {},
   "outputs": [],
   "source": [
    "def parametric_line(p0: Vec2d, p1: Vec2d):\n",
    "    d = (p1 - p0).get_length()\n",
    "    return lambda t: p0 + t * (p1 - p0) / d"
   ]
  },
  {
   "cell_type": "code",
   "execution_count": 107,
   "metadata": {},
   "outputs": [],
   "source": [
    "import numpy.random as rndm"
   ]
  },
  {
   "cell_type": "code",
   "execution_count": 108,
   "metadata": {},
   "outputs": [],
   "source": [
    "def random_points(n):\n",
    "    return [Vec2d(p[0]*width, p[1]*height) for p in rndm.random((n, 2))]"
   ]
  },
  {
   "cell_type": "markdown",
   "metadata": {},
   "source": [
    "https://goo.gl/PR24H2\n",
    "https://goo.gl/x3dEM6"
   ]
  },
  {
   "cell_type": "code",
   "execution_count": 109,
   "metadata": {},
   "outputs": [],
   "source": [
    "from typing import List, Tuple"
   ]
  },
  {
   "cell_type": "code",
   "execution_count": 110,
   "metadata": {},
   "outputs": [],
   "source": [
    "def convex_hull(points: List[Vec2d]) -> List[Tuple[int, int]]:\n",
    "    \"\"\"Computes the convex hull of a set of 2D points.\n",
    "\n",
    "    Input: an iterable sequence of Vec2ds(x, y) representing the points.\n",
    "    Output: a list of integer vertices of the convex hull in counter-clockwise \n",
    "    order, starting from the vertex with the lexicographically smallest \n",
    "    coordinates. Implements Andrew's monotone chain algorithm. \n",
    "    O(n log n) complexity in time.\"\"\"\n",
    "\n",
    "    # Sort the points lexicographically (tuples are compared lexicographically).\n",
    "    # Remove duplicates to detect the case we have just one unique point.\n",
    "    points = sorted(set([p.int_tuple for p in points]))\n",
    "\n",
    "    # Boring case: no points or a single point, possibly repeated multiple times.\n",
    "    if len(points) <= 1:\n",
    "        return points\n",
    "\n",
    "    # 2D cross product of OA and OB vectors, i.e. z-component of their 3D cross product.\n",
    "    # Returns a positive value, if OAB makes a counter-clockwise turn,\n",
    "    # negative for clockwise turn, and zero if the points are collinear.\n",
    "    def cross(o, a, b):\n",
    "        return (a[0] - o[0]) * (b[1] - o[1]) - (a[1] - o[1]) * (b[0] - o[0])\n",
    "\n",
    "    # Build lower hull \n",
    "    lower = []\n",
    "    for p in points:\n",
    "        while len(lower) >= 2 and cross(lower[-2], lower[-1], p) <= 0:\n",
    "            lower.pop()\n",
    "        lower.append(p)\n",
    "\n",
    "    # Build upper hull\n",
    "    upper = []\n",
    "    for p in reversed(points):\n",
    "        while len(upper) >= 2 and cross(upper[-2], upper[-1], p) <= 0:\n",
    "            upper.pop()\n",
    "        upper.append(p)\n",
    "\n",
    "    # Concatenation of the lower and upper hulls gives the convex hull.\n",
    "    # Last point of each list is omitted because it is repeated at the \n",
    "    # beginning of the other list. \n",
    "    return lower[:-1] + upper[:-1]"
   ]
  },
  {
   "cell_type": "code",
   "execution_count": 111,
   "metadata": {},
   "outputs": [],
   "source": [
    "def screen_cage(pad=10):\n",
    "    return [Vec2d(pad, pad),\n",
    "            Vec2d(pad, height-pad-1),\n",
    "            Vec2d(width-pad-1, height-pad-1),\n",
    "            Vec2d(width-pad-1, pad)]"
   ]
  },
  {
   "cell_type": "code",
   "execution_count": 113,
   "metadata": {},
   "outputs": [],
   "source": [
    "def draw_points(int_tuples: List[Tuple[int, int]],\n",
    "                color=THECOLORS['yellow']):\n",
    "    pygame.draw.polygon(screen, color, int_tuples, 1)\n",
    "    pygame.display.flip()\n",
    "anim_puck()\n",
    "# draw_points(convex_hull(random_points(15)))\n",
    "draw_points([p.int_tuple for p in screen_cage()], THECOLORS['green'])"
   ]
  },
  {
   "cell_type": "code",
   "execution_count": 124,
   "metadata": {},
   "outputs": [],
   "source": [
    "def colinear_point_and_parameter(u: Vec2d, v: Vec2d, p: Vec2d) -> Tuple[Vec2d, float]:\n",
    "    vmu_squared = (v - u).dot(v - u)\n",
    "    t = (p - u).dot(v - u) / vmu_squared\n",
    "    q = u + t * (v - u)\n",
    "    return (q, t)\n",
    "def draw_col_pt_param(u=Vec2d(10, height - 10 - 1),\n",
    "                      v=Vec2d(width - 10 - 1, height - 10 - 1),\n",
    "                      p=Vec2d(width/2 + 99, height/2 + 99/2),\n",
    "                      point_color=THECOLORS['black'],\n",
    "                      line_color=THECOLORS['magenta']):\n",
    "    q, t = colinear_point_and_parameter(u, v, p)\n",
    "    pygame.draw.line(screen, point_color, q.int_tuple, q.int_tuple)\n",
    "    pygame.draw.line(screen, line_color, p.int_tuple, q.int_tuple)\n",
    "draw_col_pt_param()"
   ]
  },
  {
   "cell_type": "code",
   "execution_count": 115,
   "metadata": {},
   "outputs": [],
   "source": [
    "def predict_hit(line_p_0: Vec2d, \n",
    "                line_p_1: Vec2d, \n",
    "                puck_center: Vec2d=Vec2d(width/2, height/2),\n",
    "                puck_radius: float=100.0,\n",
    "                puck_vel: Vec2d=Vec2d(1, 1/2),\n",
    "                dt: float=1.0):\n",
    "    pass"
   ]
  },
  {
   "cell_type": "code",
   "execution_count": null,
   "metadata": {},
   "outputs": [],
   "source": []
  }
 ],
 "metadata": {
  "kernelspec": {
   "display_name": "Python 3",
   "language": "python",
   "name": "python3"
  },
  "language_info": {
   "codemirror_mode": {
    "name": "ipython",
    "version": 3
   },
   "file_extension": ".py",
   "mimetype": "text/x-python",
   "name": "python",
   "nbconvert_exporter": "python",
   "pygments_lexer": "ipython3",
   "version": "3.5.5"
  }
 },
 "nbformat": 4,
 "nbformat_minor": 1
}
